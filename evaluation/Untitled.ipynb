{
 "cells": [
  {
   "cell_type": "code",
   "execution_count": 1,
   "id": "67be1bcf-0ab8-4d3d-a209-be58647005f3",
   "metadata": {},
   "outputs": [],
   "source": [
    "import pandas as pd"
   ]
  },
  {
   "cell_type": "code",
   "execution_count": 2,
   "id": "eb567209-f36f-49db-ba4d-192ee28c2551",
   "metadata": {},
   "outputs": [],
   "source": [
    "df = pd.read_csv('metrics/UNET.metrics.lev-avg.csv')"
   ]
  },
  {
   "cell_type": "code",
   "execution_count": 3,
   "id": "a59d9e15-ac78-4c09-a910-482586335c47",
   "metadata": {},
   "outputs": [
    {
     "data": {
      "text/html": [
       "<div>\n",
       "<style scoped>\n",
       "    .dataframe tbody tr th:only-of-type {\n",
       "        vertical-align: middle;\n",
       "    }\n",
       "\n",
       "    .dataframe tbody tr th {\n",
       "        vertical-align: top;\n",
       "    }\n",
       "\n",
       "    .dataframe thead th {\n",
       "        text-align: right;\n",
       "    }\n",
       "</style>\n",
       "<table border=\"1\" class=\"dataframe\">\n",
       "  <thead>\n",
       "    <tr style=\"text-align: right;\">\n",
       "      <th></th>\n",
       "      <th>Variable</th>\n",
       "      <th>MAE</th>\n",
       "      <th>RMSE</th>\n",
       "      <th>R2</th>\n",
       "    </tr>\n",
       "  </thead>\n",
       "  <tbody>\n",
       "    <tr>\n",
       "      <th>0</th>\n",
       "      <td>ptend_t</td>\n",
       "      <td>2.506086</td>\n",
       "      <td>4.189381</td>\n",
       "      <td>0.646857</td>\n",
       "    </tr>\n",
       "    <tr>\n",
       "      <th>1</th>\n",
       "      <td>ptend_q0001</td>\n",
       "      <td>4.363282</td>\n",
       "      <td>7.172825</td>\n",
       "      <td>-inf</td>\n",
       "    </tr>\n",
       "    <tr>\n",
       "      <th>2</th>\n",
       "      <td>cam_out_NETSW</td>\n",
       "      <td>12.344024</td>\n",
       "      <td>25.129565</td>\n",
       "      <td>0.984899</td>\n",
       "    </tr>\n",
       "    <tr>\n",
       "      <th>3</th>\n",
       "      <td>cam_out_FLWDS</td>\n",
       "      <td>4.622759</td>\n",
       "      <td>6.164225</td>\n",
       "      <td>0.938568</td>\n",
       "    </tr>\n",
       "    <tr>\n",
       "      <th>4</th>\n",
       "      <td>cam_out_PRECSC</td>\n",
       "      <td>2.441191</td>\n",
       "      <td>4.384166</td>\n",
       "      <td>-inf</td>\n",
       "    </tr>\n",
       "    <tr>\n",
       "      <th>5</th>\n",
       "      <td>cam_out_PRECC</td>\n",
       "      <td>32.571688</td>\n",
       "      <td>69.363461</td>\n",
       "      <td>-0.915705</td>\n",
       "    </tr>\n",
       "    <tr>\n",
       "      <th>6</th>\n",
       "      <td>cam_out_SOLS</td>\n",
       "      <td>7.329968</td>\n",
       "      <td>16.165344</td>\n",
       "      <td>0.966795</td>\n",
       "    </tr>\n",
       "    <tr>\n",
       "      <th>7</th>\n",
       "      <td>cam_out_SOLL</td>\n",
       "      <td>9.696038</td>\n",
       "      <td>20.794306</td>\n",
       "      <td>0.952793</td>\n",
       "    </tr>\n",
       "    <tr>\n",
       "      <th>8</th>\n",
       "      <td>cam_out_SOLSD</td>\n",
       "      <td>4.247894</td>\n",
       "      <td>8.713279</td>\n",
       "      <td>0.962393</td>\n",
       "    </tr>\n",
       "    <tr>\n",
       "      <th>9</th>\n",
       "      <td>cam_out_SOLLD</td>\n",
       "      <td>4.608141</td>\n",
       "      <td>9.591045</td>\n",
       "      <td>0.880448</td>\n",
       "    </tr>\n",
       "  </tbody>\n",
       "</table>\n",
       "</div>"
      ],
      "text/plain": [
       "         Variable        MAE       RMSE        R2\n",
       "0         ptend_t   2.506086   4.189381  0.646857\n",
       "1     ptend_q0001   4.363282   7.172825      -inf\n",
       "2   cam_out_NETSW  12.344024  25.129565  0.984899\n",
       "3   cam_out_FLWDS   4.622759   6.164225  0.938568\n",
       "4  cam_out_PRECSC   2.441191   4.384166      -inf\n",
       "5   cam_out_PRECC  32.571688  69.363461 -0.915705\n",
       "6    cam_out_SOLS   7.329968  16.165344  0.966795\n",
       "7    cam_out_SOLL   9.696038  20.794306  0.952793\n",
       "8   cam_out_SOLSD   4.247894   8.713279  0.962393\n",
       "9   cam_out_SOLLD   4.608141   9.591045  0.880448"
      ]
     },
     "execution_count": 3,
     "metadata": {},
     "output_type": "execute_result"
    }
   ],
   "source": [
    "df"
   ]
  },
  {
   "cell_type": "code",
   "execution_count": null,
   "id": "2c3b80c8-fc43-4a49-bb0f-52ed63fa8288",
   "metadata": {},
   "outputs": [],
   "source": []
  }
 ],
 "metadata": {
  "kernelspec": {
   "display_name": "climsim",
   "language": "python",
   "name": "climsim"
  },
  "language_info": {
   "codemirror_mode": {
    "name": "ipython",
    "version": 3
   },
   "file_extension": ".py",
   "mimetype": "text/x-python",
   "name": "python",
   "nbconvert_exporter": "python",
   "pygments_lexer": "ipython3",
   "version": "3.10.14"
  }
 },
 "nbformat": 4,
 "nbformat_minor": 5
}
